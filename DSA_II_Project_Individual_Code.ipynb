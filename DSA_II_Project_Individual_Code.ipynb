{
  "nbformat": 4,
  "nbformat_minor": 0,
  "metadata": {
    "colab": {
      "provenance": []
    },
    "kernelspec": {
      "name": "python3",
      "display_name": "Python 3"
    },
    "language_info": {
      "name": "python"
    }
  },
  "cells": [
    {
      "cell_type": "markdown",
      "source": [
        "**BASIC FLOYD-WARSHALL ALGORITHM**"
      ],
      "metadata": {
        "id": "nPalmNELiu7R"
      }
    },
    {
      "cell_type": "code",
      "execution_count": null,
      "metadata": {
        "colab": {
          "base_uri": "https://localhost:8080/"
        },
        "id": "3qarFvDoa1ld",
        "outputId": "220948be-7eec-41f6-ca7f-49c55422c279"
      },
      "outputs": [
        {
          "output_type": "stream",
          "name": "stdout",
          "text": [
            "0  9  20  23  16  26   \n",
            "9  0  11  22  25  19   \n",
            "20  11  0  28  21  8   \n",
            "23  32  28  0  7  20   \n",
            "16  25  21  7  0  13   \n",
            "28  19  8  20  13  0   \n"
          ]
        }
      ],
      "source": [
        "# NAME: Syahmi Irdina Binti Masni\n",
        "# MATRIC NO: 2011120\n",
        "# Basic Floyd-Warshall Algorithm \n",
        "\n",
        "# number of vertices\n",
        "n = 6\n",
        "\n",
        "def floyd_warshall(X):\n",
        "    distance = list(map(lambda i: list(map(lambda j: j, i)), X))\n",
        "\n",
        "    # Adding vertices individually\n",
        "    for k in range(n):\n",
        "        for i in range(n):\n",
        "            for j in range(n):\n",
        "                distance[i][j] = min(distance[i][j], distance[i][k] + distance[k][j])\n",
        "    print_solution(distance)\n",
        "\n",
        "\n",
        "def print_solution(distance):\n",
        "    for i in range(n):\n",
        "        for j in range(n):\n",
        "            if(distance[i][j] == 999):\n",
        "                print(\"999\", end=\" \")\n",
        "            else:\n",
        "                print(distance[i][j], end=\"  \")\n",
        "        print(\" \")\n",
        "\n",
        "# Value of the weight based on the article\n",
        "X =      [[0,  9, 999, 999, 16, 26],\n",
        "         [9,   0, 11, 22, 999, 999],\n",
        "         [999, 11,  0,  32, 999, 8],\n",
        "         [999, 999, 999, 0, 7, 999],\n",
        "         [16,  999, 999, 7, 0, 13],\n",
        "         [999, 999, 8, 999, 13, 0]]\n",
        "\n",
        "floyd_warshall(X)"
      ]
    },
    {
      "cell_type": "markdown",
      "source": [
        "**MODIFIED FLOYD-WARSHALL ALGORITHM**"
      ],
      "metadata": {
        "id": "QVS4JKlRpdyL"
      }
    },
    {
      "cell_type": "code",
      "source": [
        "# NAME: Syahmi Irdina Binti Masni\n",
        "# MATRIC NO: 2011120\n",
        "# Modified Floyd-Warshall Algorithm \n",
        "\n",
        "\n",
        "# number of vertices\n",
        "n = 6\n",
        "\n",
        "def floyd_warshall(X):\n",
        "    distance = list(map(lambda i: list(map(lambda j: j, i)), X))\n",
        "\n",
        "    # Adding vertices individually\n",
        "    for k in range(n):\n",
        "        for i in range(n):\n",
        "            for j in range(n):\n",
        "                distance[i][j] = min(distance[i][j], distance[i][k] + distance[k][j])\n",
        "                distance[j][i] = min(distance[j][i], distance[j][k] + distance[k][i]) # Modified by adding reverse distance\n",
        "    print_solution(distance)\n",
        "\n",
        "# MODIFICATION\n",
        "def print_solution(distance):\n",
        "    for i in range(n):\n",
        "        for j in range(n):                                       \n",
        "            if(distance[i][j] == 999 or distance[j][i] == 999):  # Validating a path in condition of presence of its corresponding acknowledgement path\n",
        "              print(\"999\", end=\" \")                              # If q[i,j]=999 or q[j,i]=999, print 999 (Infinity)\n",
        "            elif(distance[i][j] != distance[j][i]):              # Validating a path if its length equals that of reply path\n",
        "              print(\"999\", end=\" \")                              # If q[i,j] and q[j,i] are not equal, then set q[i,j]=q[j,i]=999 (Infinity)\n",
        "            else:\n",
        "              print(distance[i][j], end=\"  \")\n",
        "        print(\" \")\n",
        "\n",
        "# Value of the weight based on the article\n",
        "X =      [[0,  9, 999, 999, 16, 26],\n",
        "         [9,   0, 11, 22, 999, 999],\n",
        "         [999, 11,  0,  32, 999, 8],\n",
        "         [999, 999, 999, 0, 7, 999],\n",
        "         [16,  999, 999, 7, 0, 13],\n",
        "         [999, 999, 8, 999, 13, 0]]\n",
        "\n",
        "floyd_warshall(X)"
      ],
      "metadata": {
        "colab": {
          "base_uri": "https://localhost:8080/"
        },
        "id": "rxlAxyXPiaVL",
        "outputId": "9bdba61a-c287-478f-de63-d1829e5d0eb3"
      },
      "execution_count": null,
      "outputs": [
        {
          "output_type": "stream",
          "name": "stdout",
          "text": [
            "0  9  20  23  16  999  \n",
            "9  0  11  999 25  19   \n",
            "20  11  0  28  21  8   \n",
            "23  999 28  0  7  20   \n",
            "16  25  21  7  0  13   \n",
            "999 19  8  20  13  0   \n"
          ]
        }
      ]
    }
  ]
}